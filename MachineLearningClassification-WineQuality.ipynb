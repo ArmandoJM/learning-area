{
  "nbformat": 4,
  "nbformat_minor": 0,
  "metadata": {
    "kernelspec": {
      "display_name": "Python 3",
      "language": "python",
      "name": "python3"
    },
    "language_info": {
      "codemirror_mode": {
        "name": "ipython",
        "version": 2
      },
      "file_extension": ".py",
      "mimetype": "text/x-python",
      "name": "python",
      "nbconvert_exporter": "python",
      "pygments_lexer": "ipython2",
      "version": "2.7.6"
    },
    "colab": {
      "name": "hwk3.ipynb",
      "provenance": [],
      "collapsed_sections": [],
      "include_colab_link": true
    }
  },
  "cells": [
    {
      "cell_type": "markdown",
      "metadata": {
        "id": "view-in-github",
        "colab_type": "text"
      },
      "source": [
        "<a href=\"https://colab.research.google.com/github/ArmandoJM/learning-area/blob/master/MachineLearningClassification-WineQuality.ipynb\" target=\"_parent\"><img src=\"https://colab.research.google.com/assets/colab-badge.svg\" alt=\"Open In Colab\"/></a>"
      ]
    },
    {
      "cell_type": "code",
      "metadata": {
        "id": "ZelipuK7LYYz"
      },
      "source": [
        "import pandas as pd\n",
        "import seaborn as sns\n",
        "import matplotlib.pyplot as plt\n",
        "from sklearn.ensemble import RandomForestClassifier\n",
        "from sklearn.svm import SVC\n",
        "from sklearn import svm\n",
        "from sklearn.neural_network import MLPClassifier\n",
        "from sklearn.metrics import confusion_matrix, classification_report\n",
        "from sklearn.metrics import accuracy_score\n",
        "from sklearn.preprocessing import StandardScaler, LabelEncoder\n",
        "from sklearn.model_selection import train_test_split\n"
      ],
      "execution_count": 2,
      "outputs": []
    },
    {
      "cell_type": "code",
      "metadata": {
        "pycharm": {
          "name": "#%%\n"
        },
        "id": "A6hmJdFfLYZQ",
        "outputId": "af3ec059-8a76-4a5e-d474-c5fdb7e92a31",
        "colab": {
          "base_uri": "https://localhost:8080/",
          "height": 226
        }
      },
      "source": [
        "# Load Data from DataSet, then Data Pre-Processing, and Selection\n",
        "wine= load_wine()\n",
        "\n",
        "df = pd.DataFrame(data= np.c_[wine['data'],\n",
        "                             wine['target']], columns= wine['feature_names'] + ['targets'])\n",
        "x = wine.data\n",
        "y = wine.target\n",
        "\n",
        "df.head()"
      ],
      "execution_count": 11,
      "outputs": [
        {
          "output_type": "execute_result",
          "data": {
            "text/html": [
              "<div>\n",
              "<style scoped>\n",
              "    .dataframe tbody tr th:only-of-type {\n",
              "        vertical-align: middle;\n",
              "    }\n",
              "\n",
              "    .dataframe tbody tr th {\n",
              "        vertical-align: top;\n",
              "    }\n",
              "\n",
              "    .dataframe thead th {\n",
              "        text-align: right;\n",
              "    }\n",
              "</style>\n",
              "<table border=\"1\" class=\"dataframe\">\n",
              "  <thead>\n",
              "    <tr style=\"text-align: right;\">\n",
              "      <th></th>\n",
              "      <th>alcohol</th>\n",
              "      <th>malic_acid</th>\n",
              "      <th>ash</th>\n",
              "      <th>alcalinity_of_ash</th>\n",
              "      <th>magnesium</th>\n",
              "      <th>total_phenols</th>\n",
              "      <th>flavanoids</th>\n",
              "      <th>nonflavanoid_phenols</th>\n",
              "      <th>proanthocyanins</th>\n",
              "      <th>color_intensity</th>\n",
              "      <th>hue</th>\n",
              "      <th>od280/od315_of_diluted_wines</th>\n",
              "      <th>proline</th>\n",
              "      <th>targets</th>\n",
              "    </tr>\n",
              "  </thead>\n",
              "  <tbody>\n",
              "    <tr>\n",
              "      <th>0</th>\n",
              "      <td>14.23</td>\n",
              "      <td>1.71</td>\n",
              "      <td>2.43</td>\n",
              "      <td>15.6</td>\n",
              "      <td>127.0</td>\n",
              "      <td>2.80</td>\n",
              "      <td>3.06</td>\n",
              "      <td>0.28</td>\n",
              "      <td>2.29</td>\n",
              "      <td>5.64</td>\n",
              "      <td>1.04</td>\n",
              "      <td>3.92</td>\n",
              "      <td>1065.0</td>\n",
              "      <td>0.0</td>\n",
              "    </tr>\n",
              "    <tr>\n",
              "      <th>1</th>\n",
              "      <td>13.20</td>\n",
              "      <td>1.78</td>\n",
              "      <td>2.14</td>\n",
              "      <td>11.2</td>\n",
              "      <td>100.0</td>\n",
              "      <td>2.65</td>\n",
              "      <td>2.76</td>\n",
              "      <td>0.26</td>\n",
              "      <td>1.28</td>\n",
              "      <td>4.38</td>\n",
              "      <td>1.05</td>\n",
              "      <td>3.40</td>\n",
              "      <td>1050.0</td>\n",
              "      <td>0.0</td>\n",
              "    </tr>\n",
              "    <tr>\n",
              "      <th>2</th>\n",
              "      <td>13.16</td>\n",
              "      <td>2.36</td>\n",
              "      <td>2.67</td>\n",
              "      <td>18.6</td>\n",
              "      <td>101.0</td>\n",
              "      <td>2.80</td>\n",
              "      <td>3.24</td>\n",
              "      <td>0.30</td>\n",
              "      <td>2.81</td>\n",
              "      <td>5.68</td>\n",
              "      <td>1.03</td>\n",
              "      <td>3.17</td>\n",
              "      <td>1185.0</td>\n",
              "      <td>0.0</td>\n",
              "    </tr>\n",
              "    <tr>\n",
              "      <th>3</th>\n",
              "      <td>14.37</td>\n",
              "      <td>1.95</td>\n",
              "      <td>2.50</td>\n",
              "      <td>16.8</td>\n",
              "      <td>113.0</td>\n",
              "      <td>3.85</td>\n",
              "      <td>3.49</td>\n",
              "      <td>0.24</td>\n",
              "      <td>2.18</td>\n",
              "      <td>7.80</td>\n",
              "      <td>0.86</td>\n",
              "      <td>3.45</td>\n",
              "      <td>1480.0</td>\n",
              "      <td>0.0</td>\n",
              "    </tr>\n",
              "    <tr>\n",
              "      <th>4</th>\n",
              "      <td>13.24</td>\n",
              "      <td>2.59</td>\n",
              "      <td>2.87</td>\n",
              "      <td>21.0</td>\n",
              "      <td>118.0</td>\n",
              "      <td>2.80</td>\n",
              "      <td>2.69</td>\n",
              "      <td>0.39</td>\n",
              "      <td>1.82</td>\n",
              "      <td>4.32</td>\n",
              "      <td>1.04</td>\n",
              "      <td>2.93</td>\n",
              "      <td>735.0</td>\n",
              "      <td>0.0</td>\n",
              "    </tr>\n",
              "  </tbody>\n",
              "</table>\n",
              "</div>"
            ],
            "text/plain": [
              "   alcohol  malic_acid   ash  ...  od280/od315_of_diluted_wines  proline  targets\n",
              "0    14.23        1.71  2.43  ...                          3.92   1065.0      0.0\n",
              "1    13.20        1.78  2.14  ...                          3.40   1050.0      0.0\n",
              "2    13.16        2.36  2.67  ...                          3.17   1185.0      0.0\n",
              "3    14.37        1.95  2.50  ...                          3.45   1480.0      0.0\n",
              "4    13.24        2.59  2.87  ...                          2.93    735.0      0.0\n",
              "\n",
              "[5 rows x 14 columns]"
            ]
          },
          "metadata": {
            "tags": []
          },
          "execution_count": 11
        }
      ]
    },
    {
      "cell_type": "code",
      "metadata": {
        "pycharm": {
          "name": "#%%\n"
        },
        "id": "-Tz78l2gLYZ3",
        "outputId": "44c4432c-f232-4c2a-88c5-b8afef45fb37",
        "colab": {
          "base_uri": "https://localhost:8080/"
        }
      },
      "source": [
        "# ,'malic_acid','ash','alcalinity_of_ash','magnesium','total_phenols'\n",
        "X = np.asarray(df[['alcohol','malic_acid','ash','alcalinity_of_ash','magnesium','total_phenols']])\n",
        "df.shape\n",
        "df['flavanoids'] = df['flavanoids'].astype('int')\n",
        "X[0:5]"
      ],
      "execution_count": 12,
      "outputs": [
        {
          "output_type": "execute_result",
          "data": {
            "text/plain": [
              "array([[ 14.23,   1.71,   2.43,  15.6 , 127.  ,   2.8 ],\n",
              "       [ 13.2 ,   1.78,   2.14,  11.2 , 100.  ,   2.65],\n",
              "       [ 13.16,   2.36,   2.67,  18.6 , 101.  ,   2.8 ],\n",
              "       [ 14.37,   1.95,   2.5 ,  16.8 , 113.  ,   3.85],\n",
              "       [ 13.24,   2.59,   2.87,  21.  , 118.  ,   2.8 ]])"
            ]
          },
          "metadata": {
            "tags": []
          },
          "execution_count": 12
        }
      ]
    },
    {
      "cell_type": "code",
      "metadata": {
        "id": "uTFZLaO8cXGa",
        "outputId": "59a1ef0a-3273-4b20-baab-3251149d2b14",
        "colab": {
          "base_uri": "https://localhost:8080/"
        }
      },
      "source": [
        "y = np.asarray(df['flavanoids'])\n",
        "y [0:5]"
      ],
      "execution_count": 13,
      "outputs": [
        {
          "output_type": "execute_result",
          "data": {
            "text/plain": [
              "array([3, 2, 3, 3, 2])"
            ]
          },
          "metadata": {
            "tags": []
          },
          "execution_count": 13
        }
      ]
    },
    {
      "cell_type": "code",
      "metadata": {
        "id": "Sl2ZeWP9cJQU",
        "outputId": "d83a5f25-bd2e-4097-a6e1-c7e38ebb02fd",
        "colab": {
          "base_uri": "https://localhost:8080/"
        }
      },
      "source": [
        "from sklearn import preprocessing\n",
        "X = preprocessing.StandardScaler().fit(X).transform(X)\n",
        "X[0:5]"
      ],
      "execution_count": 14,
      "outputs": [
        {
          "output_type": "execute_result",
          "data": {
            "text/plain": [
              "array([[ 1.51861254, -0.5622498 ,  0.23205254, -1.16959318,  1.91390522,\n",
              "         0.80899739],\n",
              "       [ 0.24628963, -0.49941338, -0.82799632, -2.49084714,  0.01814502,\n",
              "         0.56864766],\n",
              "       [ 0.19687903,  0.02123125,  1.10933436, -0.2687382 ,  0.08835836,\n",
              "         0.80899739],\n",
              "       [ 1.69154964, -0.34681064,  0.4879264 , -0.80925118,  0.93091845,\n",
              "         2.49144552],\n",
              "       [ 0.29570023,  0.22769377,  1.84040254,  0.45194578,  1.28198515,\n",
              "         0.80899739]])"
            ]
          },
          "metadata": {
            "tags": []
          },
          "execution_count": 14
        }
      ]
    },
    {
      "cell_type": "markdown",
      "metadata": {
        "id": "n-ILX-SqdKUz"
      },
      "source": [
        "Train/Test dataset"
      ]
    },
    {
      "cell_type": "code",
      "metadata": {
        "id": "80hmYUOcdMLB",
        "outputId": "7252391a-e8b2-4742-da82-82a47c8b2662",
        "colab": {
          "base_uri": "https://localhost:8080/"
        }
      },
      "source": [
        "from sklearn.model_selection import train_test_split\n",
        "X_train, X_test, y_train, y_test = train_test_split( X, y, test_size=0.2, random_state=4)\n",
        "print ('Train set:', X_train.shape,  y_train.shape)\n",
        "print ('Test set:', X_test.shape,  y_test.shape)"
      ],
      "execution_count": 15,
      "outputs": [
        {
          "output_type": "stream",
          "text": [
            "Train set: (142, 6) (142,)\n",
            "Test set: (36, 6) (36,)\n"
          ],
          "name": "stdout"
        }
      ]
    },
    {
      "cell_type": "markdown",
      "metadata": {
        "id": "icX6fJwPdvm2"
      },
      "source": [
        "Modeling (Logistic Regression with Scikit-learn)"
      ]
    },
    {
      "cell_type": "code",
      "metadata": {
        "id": "V6Y9c6rherp9"
      },
      "source": [
        "\n",
        "# instantiate the model (using the default parameters)\n",
        "logreg = LogisticRegression()\n",
        "\n",
        "# fit the model with data\n",
        "logreg.fit(X_train,y_train)\n",
        "\n",
        "#\n",
        "y_pred=logreg.predict(X_test)"
      ],
      "execution_count": 16,
      "outputs": []
    },
    {
      "cell_type": "markdown",
      "metadata": {
        "id": "-YJaaayJcekz"
      },
      "source": [
        "SVC\n"
      ]
    },
    {
      "cell_type": "markdown",
      "metadata": {
        "id": "XJJbVBMzcl0A"
      },
      "source": [
        "Decision Tree\n"
      ]
    },
    {
      "cell_type": "markdown",
      "metadata": {
        "id": "GbW6XIymcw6h"
      },
      "source": [
        ""
      ]
    },
    {
      "cell_type": "markdown",
      "metadata": {
        "id": "I3za98l1chV-"
      },
      "source": [
        ""
      ]
    },
    {
      "cell_type": "markdown",
      "metadata": {
        "id": "KOyoZXuYkGVz"
      },
      "source": [
        "Model Evaluation using Confusion Matrix"
      ]
    },
    {
      "cell_type": "code",
      "metadata": {
        "id": "dFYbsNzdkHM9",
        "outputId": "d600eed6-cbc9-4ea5-bf63-6f4f50113399",
        "colab": {
          "base_uri": "https://localhost:8080/"
        }
      },
      "source": [
        "# import the metrics class\n",
        "from sklearn import metrics\n",
        "cnf_matrix = metrics.confusion_matrix(y_test, y_pred)\n",
        "cnf_matrix"
      ],
      "execution_count": 17,
      "outputs": [
        {
          "output_type": "execute_result",
          "data": {
            "text/plain": [
              "array([[10,  3,  0,  0],\n",
              "       [ 0,  6,  0,  0],\n",
              "       [ 0,  1,  9,  3],\n",
              "       [ 0,  0,  1,  3]])"
            ]
          },
          "metadata": {
            "tags": []
          },
          "execution_count": 17
        }
      ]
    },
    {
      "cell_type": "code",
      "metadata": {
        "id": "R6wY5Y1UoxqM"
      },
      "source": [
        "from sklearn.linear_model import LogisticRegression\n",
        "from sklearn.metrics import confusion_matrix\n",
        "LR = LogisticRegression(C=0.01, solver='liblinear').fit(X_train,y_train)"
      ],
      "execution_count": 18,
      "outputs": []
    },
    {
      "cell_type": "code",
      "metadata": {
        "id": "1nnVMa2zo0O_",
        "outputId": "f4b0f51f-e515-4a0e-bc28-6d8e1623b3d5",
        "colab": {
          "base_uri": "https://localhost:8080/"
        }
      },
      "source": [
        "yhat = LR.predict(X_test)\n",
        "yhat"
      ],
      "execution_count": 19,
      "outputs": [
        {
          "output_type": "execute_result",
          "data": {
            "text/plain": [
              "array([0, 0, 3, 3, 1, 0, 3, 2, 3, 1, 1, 3, 1, 0, 3, 1, 3, 2, 2, 0, 1, 0,\n",
              "       2, 0, 3, 1, 1, 1, 0, 0, 3, 1, 3, 2, 0, 0])"
            ]
          },
          "metadata": {
            "tags": []
          },
          "execution_count": 19
        }
      ]
    },
    {
      "cell_type": "code",
      "metadata": {
        "id": "vd2UDmCio50q",
        "outputId": "26436bbf-82c5-4025-ae91-a460e3180ea2",
        "colab": {
          "base_uri": "https://localhost:8080/"
        }
      },
      "source": [
        "yhat_prob = LR.predict_proba(X_test)\n",
        "yhat_prob"
      ],
      "execution_count": 20,
      "outputs": [
        {
          "output_type": "execute_result",
          "data": {
            "text/plain": [
              "array([[0.25016384, 0.22162268, 0.18898928, 0.16288232, 0.17634188],\n",
              "       [0.25283684, 0.21667032, 0.19574477, 0.15484113, 0.17990694],\n",
              "       [0.15100436, 0.13931403, 0.22997932, 0.30937248, 0.1703298 ],\n",
              "       [0.21805565, 0.15159723, 0.208899  , 0.24626072, 0.1751874 ],\n",
              "       [0.19111156, 0.22339994, 0.22115511, 0.18928488, 0.17504852],\n",
              "       [0.23622128, 0.23170072, 0.21704932, 0.13298065, 0.18204803],\n",
              "       [0.16666064, 0.17204582, 0.23707913, 0.24805461, 0.1761598 ],\n",
              "       [0.13478468, 0.19712313, 0.26846879, 0.2220751 , 0.1775483 ],\n",
              "       [0.16329071, 0.17935307, 0.2240254 , 0.26252676, 0.17080406],\n",
              "       [0.17858983, 0.24140412, 0.20747464, 0.20362147, 0.16890994],\n",
              "       [0.20852859, 0.24822966, 0.21456176, 0.15217429, 0.17650571],\n",
              "       [0.15061192, 0.14934444, 0.23742816, 0.28930637, 0.17330911],\n",
              "       [0.2436195 , 0.24436939, 0.19599489, 0.13923611, 0.17678011],\n",
              "       [0.25489727, 0.20621998, 0.19484549, 0.16447663, 0.17956063],\n",
              "       [0.15956635, 0.15995739, 0.23956663, 0.26274638, 0.17816326],\n",
              "       [0.22660821, 0.24314604, 0.20749638, 0.14569703, 0.17705234],\n",
              "       [0.18164371, 0.17418981, 0.22108088, 0.24859518, 0.17449042],\n",
              "       [0.19086098, 0.20586884, 0.23637924, 0.187472  , 0.17941893],\n",
              "       [0.19851546, 0.209309  , 0.2260648 , 0.18996884, 0.17614189],\n",
              "       [0.25941574, 0.19873899, 0.18545414, 0.18115535, 0.17523577],\n",
              "       [0.21140489, 0.26105305, 0.21586578, 0.13335586, 0.17832042],\n",
              "       [0.28502873, 0.22616029, 0.17052781, 0.14336404, 0.17491913],\n",
              "       [0.21750191, 0.19452183, 0.23528115, 0.17299865, 0.17969645],\n",
              "       [0.24179612, 0.22171761, 0.19880896, 0.15760941, 0.18006791],\n",
              "       [0.18341775, 0.16984444, 0.21182268, 0.26244921, 0.17246592],\n",
              "       [0.18353293, 0.23271701, 0.22286516, 0.18579466, 0.17509024],\n",
              "       [0.17329581, 0.23358346, 0.21431242, 0.20587063, 0.17293767],\n",
              "       [0.21763306, 0.25745158, 0.20299144, 0.14654204, 0.17538188],\n",
              "       [0.26801978, 0.18986269, 0.18706701, 0.1791488 , 0.17590172],\n",
              "       [0.25328206, 0.23001359, 0.19122098, 0.14904697, 0.17643641],\n",
              "       [0.15754518, 0.16910599, 0.22870959, 0.27373073, 0.17090851],\n",
              "       [0.21837825, 0.23058489, 0.21211495, 0.16152568, 0.17739623],\n",
              "       [0.17693466, 0.182715  , 0.22273572, 0.24387945, 0.17373517],\n",
              "       [0.15626365, 0.23641906, 0.25736636, 0.16979595, 0.18015498],\n",
              "       [0.24881465, 0.23080658, 0.19237816, 0.15214438, 0.17585623],\n",
              "       [0.2380716 , 0.22202792, 0.20398619, 0.15607476, 0.17983952]])"
            ]
          },
          "metadata": {
            "tags": []
          },
          "execution_count": 20
        }
      ]
    },
    {
      "cell_type": "code",
      "metadata": {
        "id": "MS4eGwYOo57Q",
        "outputId": "5ce4e4ea-0d20-4a60-d58f-f22670f71e7a",
        "colab": {
          "base_uri": "https://localhost:8080/"
        }
      },
      "source": [
        "from sklearn.metrics import jaccard_similarity_score\n",
        "jaccard_similarity_score(y_test, yhat)"
      ],
      "execution_count": 21,
      "outputs": [
        {
          "output_type": "stream",
          "text": [
            "/usr/local/lib/python3.6/dist-packages/sklearn/metrics/_classification.py:664: FutureWarning: jaccard_similarity_score has been deprecated and replaced with jaccard_score. It will be removed in version 0.23. This implementation has surprising behavior for binary and multiclass classification tasks.\n",
            "  FutureWarning)\n"
          ],
          "name": "stderr"
        },
        {
          "output_type": "execute_result",
          "data": {
            "text/plain": [
              "0.6666666666666666"
            ]
          },
          "metadata": {
            "tags": []
          },
          "execution_count": 21
        }
      ]
    },
    {
      "cell_type": "code",
      "metadata": {
        "id": "pnvJOHuxpB9U",
        "outputId": "35bf717c-3393-4117-f669-9d99f8887482",
        "colab": {
          "base_uri": "https://localhost:8080/"
        }
      },
      "source": [
        "from sklearn.metrics import classification_report, confusion_matrix\n",
        "import itertools\n",
        "def plot_confusion_matrix(cm, classes,\n",
        "                          normalize=False,\n",
        "                          title='Confusion matrix',\n",
        "                          cmap=plt.cm.Blues):\n",
        "    \"\"\"\n",
        "    This function prints and plots the confusion matrix.\n",
        "    Normalization can be applied by setting `normalize=True`.\n",
        "    \"\"\"\n",
        "    if normalize:\n",
        "        cm = cm.astype('float') / cm.sum(axis=1)[:, np.newaxis]\n",
        "        print(\"Normalized confusion matrix\")\n",
        "    else:\n",
        "        print('Confusion matrix, without normalization')\n",
        "\n",
        "    print(cm)\n",
        "\n",
        "    plt.imshow(cm, interpolation='nearest', cmap=cmap)\n",
        "    plt.title(title)\n",
        "    plt.colorbar()\n",
        "    tick_marks = np.arange(len(classes))\n",
        "    plt.xticks(tick_marks, classes, rotation=45)\n",
        "    plt.yticks(tick_marks, classes)\n",
        "\n",
        "    fmt = '.2f' if normalize else 'd'\n",
        "    thresh = cm.max() / 2.\n",
        "    for i, j in itertools.product(range(cm.shape[0]), range(cm.shape[1])):\n",
        "        plt.text(j, i, format(cm[i, j], fmt),\n",
        "                 horizontalalignment=\"center\",\n",
        "                 color=\"white\" if cm[i, j] > thresh else \"black\")\n",
        "\n",
        "    plt.tight_layout()\n",
        "    plt.ylabel('True label')\n",
        "    plt.xlabel('Predicted label')\n",
        "print(confusion_matrix(y_test, yhat, labels=[1,0]))"
      ],
      "execution_count": 22,
      "outputs": [
        {
          "output_type": "stream",
          "text": [
            "[[ 6  0]\n",
            " [ 2 11]]\n"
          ],
          "name": "stdout"
        }
      ]
    },
    {
      "cell_type": "code",
      "metadata": {
        "id": "cFXekIeHpCgQ",
        "outputId": "5b01fe2c-bd94-47d2-a735-917a95c75f96",
        "colab": {
          "base_uri": "https://localhost:8080/",
          "height": 366
        }
      },
      "source": [
        "# Compute confusion matrix\n",
        "cnf_matrix = confusion_matrix(y_test, yhat, labels=[1,0])\n",
        "np.set_printoptions(precision=2)\n",
        "\n",
        "\n",
        "# Plot non-normalized confusion matrix\n",
        "plt.figure()\n",
        "plot_confusion_matrix(cnf_matrix, classes=['feature_names=1','target=0'],normalize= False,  title='Confusion matrix')"
      ],
      "execution_count": 23,
      "outputs": [
        {
          "output_type": "stream",
          "text": [
            "Confusion matrix, without normalization\n",
            "[[ 6  0]\n",
            " [ 2 11]]\n"
          ],
          "name": "stdout"
        },
        {
          "output_type": "display_data",
          "data": {
            "image/png": "[encoded data removed]",
            "text/plain": [
              "<Figure size 432x288 with 2 Axes>"
            ]
          },
          "metadata": {
            "tags": [],
            "needs_background": "light"
          }
        }
      ]
    },
    {
      "cell_type": "code",
      "metadata": {
        "id": "M1arVzvSpId9",
        "outputId": "e649b9bd-97fc-4b22-fe1e-880b356f1a0b",
        "colab": {
          "base_uri": "https://localhost:8080/"
        }
      },
      "source": [
        "print (classification_report(y_test, yhat))\n"
      ],
      "execution_count": 24,
      "outputs": [
        {
          "output_type": "stream",
          "text": [
            "              precision    recall  f1-score   support\n",
            "\n",
            "           0       1.00      0.85      0.92        13\n",
            "           1       0.60      1.00      0.75         6\n",
            "           2       0.80      0.31      0.44        13\n",
            "           3       0.30      0.75      0.43         4\n",
            "\n",
            "    accuracy                           0.67        36\n",
            "   macro avg       0.68      0.73      0.63        36\n",
            "weighted avg       0.78      0.67      0.66        36\n",
            "\n"
          ],
          "name": "stdout"
        }
      ]
    },
    {
      "cell_type": "code",
      "metadata": {
        "id": "2fJK9XY0pTCh",
        "outputId": "69b6609b-acfa-44cb-8bb2-91d8efa1f596",
        "colab": {
          "base_uri": "https://localhost:8080/",
          "height": 358
        }
      },
      "source": [
        "################\n",
        "import numpy as np\n",
        "from sklearn import svm\n",
        "X=x[:,6:8]\n",
        "x_train, x_test, y_train, y_test = train_test_split(X,y,test_size=0.3,random_state=1,stratify=y)"
      ],
      "execution_count": 26,
      "outputs": [
        {
          "output_type": "error",
          "ename": "ValueError",
          "evalue": "ignored",
          "traceback": [
            "\u001b[0;31m---------------------------------------------------------------------------\u001b[0m",
            "\u001b[0;31mValueError\u001b[0m                                Traceback (most recent call last)",
            "\u001b[0;32m<ipython-input-26-4e7fba6486b6>\u001b[0m in \u001b[0;36m<module>\u001b[0;34m()\u001b[0m\n\u001b[1;32m      3\u001b[0m \u001b[0;32mfrom\u001b[0m \u001b[0msklearn\u001b[0m \u001b[0;32mimport\u001b[0m \u001b[0msvm\u001b[0m\u001b[0;34m\u001b[0m\u001b[0;34m\u001b[0m\u001b[0m\n\u001b[1;32m      4\u001b[0m \u001b[0mX\u001b[0m\u001b[0;34m=\u001b[0m\u001b[0mx\u001b[0m\u001b[0;34m[\u001b[0m\u001b[0;34m:\u001b[0m\u001b[0;34m,\u001b[0m\u001b[0;36m6\u001b[0m\u001b[0;34m:\u001b[0m\u001b[0;36m8\u001b[0m\u001b[0;34m]\u001b[0m\u001b[0;34m\u001b[0m\u001b[0;34m\u001b[0m\u001b[0m\n\u001b[0;32m----> 5\u001b[0;31m \u001b[0mx_train\u001b[0m\u001b[0;34m,\u001b[0m \u001b[0mx_test\u001b[0m\u001b[0;34m,\u001b[0m \u001b[0my_train\u001b[0m\u001b[0;34m,\u001b[0m \u001b[0my_test\u001b[0m \u001b[0;34m=\u001b[0m \u001b[0mtrain_test_split\u001b[0m\u001b[0;34m(\u001b[0m\u001b[0mX\u001b[0m\u001b[0;34m,\u001b[0m\u001b[0my\u001b[0m\u001b[0;34m,\u001b[0m\u001b[0mtest_size\u001b[0m\u001b[0;34m=\u001b[0m\u001b[0;36m0.3\u001b[0m\u001b[0;34m,\u001b[0m\u001b[0mrandom_state\u001b[0m\u001b[0;34m=\u001b[0m\u001b[0;36m1\u001b[0m\u001b[0;34m,\u001b[0m\u001b[0mstratify\u001b[0m\u001b[0;34m=\u001b[0m\u001b[0my\u001b[0m\u001b[0;34m)\u001b[0m\u001b[0;34m\u001b[0m\u001b[0;34m\u001b[0m\u001b[0m\n\u001b[0m",
            "\u001b[0;32m/usr/local/lib/python3.6/dist-packages/sklearn/model_selection/_split.py\u001b[0m in \u001b[0;36mtrain_test_split\u001b[0;34m(*arrays, **options)\u001b[0m\n\u001b[1;32m   2141\u001b[0m                      random_state=random_state)\n\u001b[1;32m   2142\u001b[0m \u001b[0;34m\u001b[0m\u001b[0m\n\u001b[0;32m-> 2143\u001b[0;31m         \u001b[0mtrain\u001b[0m\u001b[0;34m,\u001b[0m \u001b[0mtest\u001b[0m \u001b[0;34m=\u001b[0m \u001b[0mnext\u001b[0m\u001b[0;34m(\u001b[0m\u001b[0mcv\u001b[0m\u001b[0;34m.\u001b[0m\u001b[0msplit\u001b[0m\u001b[0;34m(\u001b[0m\u001b[0mX\u001b[0m\u001b[0;34m=\u001b[0m\u001b[0marrays\u001b[0m\u001b[0;34m[\u001b[0m\u001b[0;36m0\u001b[0m\u001b[0;34m]\u001b[0m\u001b[0;34m,\u001b[0m \u001b[0my\u001b[0m\u001b[0;34m=\u001b[0m\u001b[0mstratify\u001b[0m\u001b[0;34m)\u001b[0m\u001b[0;34m)\u001b[0m\u001b[0;34m\u001b[0m\u001b[0;34m\u001b[0m\u001b[0m\n\u001b[0m\u001b[1;32m   2144\u001b[0m \u001b[0;34m\u001b[0m\u001b[0m\n\u001b[1;32m   2145\u001b[0m     return list(chain.from_iterable((_safe_indexing(a, train),\n",
            "\u001b[0;32m/usr/local/lib/python3.6/dist-packages/sklearn/model_selection/_split.py\u001b[0m in \u001b[0;36msplit\u001b[0;34m(self, X, y, groups)\u001b[0m\n\u001b[1;32m   1327\u001b[0m         \"\"\"\n\u001b[1;32m   1328\u001b[0m         \u001b[0mX\u001b[0m\u001b[0;34m,\u001b[0m \u001b[0my\u001b[0m\u001b[0;34m,\u001b[0m \u001b[0mgroups\u001b[0m \u001b[0;34m=\u001b[0m \u001b[0mindexable\u001b[0m\u001b[0;34m(\u001b[0m\u001b[0mX\u001b[0m\u001b[0;34m,\u001b[0m \u001b[0my\u001b[0m\u001b[0;34m,\u001b[0m \u001b[0mgroups\u001b[0m\u001b[0;34m)\u001b[0m\u001b[0;34m\u001b[0m\u001b[0;34m\u001b[0m\u001b[0m\n\u001b[0;32m-> 1329\u001b[0;31m         \u001b[0;32mfor\u001b[0m \u001b[0mtrain\u001b[0m\u001b[0;34m,\u001b[0m \u001b[0mtest\u001b[0m \u001b[0;32min\u001b[0m \u001b[0mself\u001b[0m\u001b[0;34m.\u001b[0m\u001b[0m_iter_indices\u001b[0m\u001b[0;34m(\u001b[0m\u001b[0mX\u001b[0m\u001b[0;34m,\u001b[0m \u001b[0my\u001b[0m\u001b[0;34m,\u001b[0m \u001b[0mgroups\u001b[0m\u001b[0;34m)\u001b[0m\u001b[0;34m:\u001b[0m\u001b[0;34m\u001b[0m\u001b[0;34m\u001b[0m\u001b[0m\n\u001b[0m\u001b[1;32m   1330\u001b[0m             \u001b[0;32myield\u001b[0m \u001b[0mtrain\u001b[0m\u001b[0;34m,\u001b[0m \u001b[0mtest\u001b[0m\u001b[0;34m\u001b[0m\u001b[0;34m\u001b[0m\u001b[0m\n\u001b[1;32m   1331\u001b[0m \u001b[0;34m\u001b[0m\u001b[0m\n",
            "\u001b[0;32m/usr/local/lib/python3.6/dist-packages/sklearn/model_selection/_split.py\u001b[0m in \u001b[0;36m_iter_indices\u001b[0;34m(self, X, y, groups)\u001b[0m\n\u001b[1;32m   1657\u001b[0m         \u001b[0mclass_counts\u001b[0m \u001b[0;34m=\u001b[0m \u001b[0mnp\u001b[0m\u001b[0;34m.\u001b[0m\u001b[0mbincount\u001b[0m\u001b[0;34m(\u001b[0m\u001b[0my_indices\u001b[0m\u001b[0;34m)\u001b[0m\u001b[0;34m\u001b[0m\u001b[0;34m\u001b[0m\u001b[0m\n\u001b[1;32m   1658\u001b[0m         \u001b[0;32mif\u001b[0m \u001b[0mnp\u001b[0m\u001b[0;34m.\u001b[0m\u001b[0mmin\u001b[0m\u001b[0;34m(\u001b[0m\u001b[0mclass_counts\u001b[0m\u001b[0;34m)\u001b[0m \u001b[0;34m<\u001b[0m \u001b[0;36m2\u001b[0m\u001b[0;34m:\u001b[0m\u001b[0;34m\u001b[0m\u001b[0;34m\u001b[0m\u001b[0m\n\u001b[0;32m-> 1659\u001b[0;31m             raise ValueError(\"The least populated class in y has only 1\"\n\u001b[0m\u001b[1;32m   1660\u001b[0m                              \u001b[0;34m\" member, which is too few. The minimum\"\u001b[0m\u001b[0;34m\u001b[0m\u001b[0;34m\u001b[0m\u001b[0m\n\u001b[1;32m   1661\u001b[0m                              \u001b[0;34m\" number of groups for any class cannot\"\u001b[0m\u001b[0;34m\u001b[0m\u001b[0;34m\u001b[0m\u001b[0m\n",
            "\u001b[0;31mValueError\u001b[0m: The least populated class in y has only 1 member, which is too few. The minimum number of groups for any class cannot be less than 2."
          ]
        }
      ]
    },
    {
      "cell_type": "code",
      "metadata": {
        "id": "8yyRfEFJ9vqc",
        "outputId": "335248f0-bed5-46d3-9637-cd48ca7b0016",
        "colab": {
          "base_uri": "https://localhost:8080/",
          "height": 246
        }
      },
      "source": [
        "\n",
        " \n",
        "X = np.array([[0, 0], [1, 1]])\n",
        "y = [0, 1]\n",
        "clf = svm.SVC(kernel='precomputed')\n",
        "\n",
        "# kernel computation\n",
        "K = np.zeros(shape = (n, n))\n",
        "\n",
        "# \"At the moment, the kernel values between all training vectors \n",
        "#  and the test vectors must be provided.\" \n",
        "#  according to scikit learn web page. \n",
        "#  -- This is the problem!\n",
        "# v1: array, shape (n, d)\n",
        "# w1: float in [0, 1)\n",
        "chi = sklearn.metrics.pairwise.chi2_kernel(v1, v1)\n",
        "mu = 1.0 / numpy.mean(chi)\n",
        "K += w1 * numpy.exp(-mu * chi)\n",
        "\n",
        "# v2: array, shape (n, d)\n",
        "# w2: float in [0, 1)\n",
        "chi = sklearn.metrics.pairwise.chi2_kernel(v2, v2)\n",
        "mu = 1.0 / numpy.mean(chi)\n",
        "K += w2 * numpy.exp(-mu * chi)\n",
        "\n",
        "# v3: array, shape (n, d)\n",
        "# w3: float in [0, 1)\n",
        "chi = sklearn.metrics.pairwise.chi2_kernel(v3, v3)\n",
        "mu = 1.0 / numpy.mean(chi)\n",
        "K += w3 * numpy.exp(-mu * chi)\n",
        "\n",
        "# v4: array, shape (n, d)\n",
        "# w4: float in [0, 1)\n",
        "chi = sklearn.metrics.pairwise.chi2_kernel(v4, v4)\n",
        "mu = 1.0 / numpy.mean(chi)\n",
        "K += w4 * numpy.exp(-mu * chi)\n",
        "\n",
        "# scikit-learn is a wrapper LIBSVM and looking at the LIBSVM Readme file\n",
        "# it seems you need kernel values for test data something like this:    \n",
        "\n",
        "Kt = numpy.zeros(shape = (nt, n))\n",
        "# t1: array, shape (nt, d)\n",
        "# w1: float in [0, 1)\n",
        "chi = sklearn.metrics.pairwise.chi2_kernel(t1, v1)\n",
        "mu = 1.0 / numpy.mean(chi)\n",
        "Kt += w1 * numpy.exp(-mu * chi)\n",
        "\n",
        "# v2: array, shape (n, d)\n",
        "# w2: float in [0, 1)\n",
        "chi = sklearn.metrics.pairwise.chi2_kernel(t2, v2)\n",
        "mu = 1.0 / numpy.mean(chi)\n",
        "Kt += w2 * numpy.exp(-mu * chi)\n",
        "\n",
        "# v3: array, shape (n, d)\n",
        "# w3: float in [0, 1)\n",
        "chi = sklearn.metrics.pairwise.chi2_kernel(t3, v3)\n",
        "mu = 1.0 / numpy.mean(chi)\n",
        "Kt += w3 * numpy.exp(-mu * chi)\n",
        "\n",
        "# v4: array, shape (n, d)\n",
        "# w4: float in [0, 1)\n",
        "chi = sklearn.metrics.pairwise.chi2_kernel(t4, v4)\n",
        "mu = 1.0 / numpy.mean(chi)\n",
        "Kt += w4 * numpy.exp(-mu * chi)\n",
        "\n",
        "clf.fit(K, y) \n",
        "\n",
        "# predict on testing examples\n",
        "probas_ = clf.predict_proba(Kt)"
      ],
      "execution_count": null,
      "outputs": [
        {
          "output_type": "error",
          "ename": "NameError",
          "evalue": "ignored",
          "traceback": [
            "\u001b[0;31m---------------------------------------------------------------------------\u001b[0m",
            "\u001b[0;31mNameError\u001b[0m                                 Traceback (most recent call last)",
            "\u001b[0;32m<ipython-input-39-80d77d3e6aef>\u001b[0m in \u001b[0;36m<module>\u001b[0;34m()\u001b[0m\n\u001b[1;32m      6\u001b[0m \u001b[0;34m\u001b[0m\u001b[0m\n\u001b[1;32m      7\u001b[0m \u001b[0;31m# kernel computation\u001b[0m\u001b[0;34m\u001b[0m\u001b[0;34m\u001b[0m\u001b[0;34m\u001b[0m\u001b[0m\n\u001b[0;32m----> 8\u001b[0;31m \u001b[0mK\u001b[0m \u001b[0;34m=\u001b[0m \u001b[0mnp\u001b[0m\u001b[0;34m.\u001b[0m\u001b[0mzeros\u001b[0m\u001b[0;34m(\u001b[0m\u001b[0mshape\u001b[0m \u001b[0;34m=\u001b[0m \u001b[0;34m(\u001b[0m\u001b[0mn\u001b[0m\u001b[0;34m,\u001b[0m \u001b[0mn\u001b[0m\u001b[0;34m)\u001b[0m\u001b[0;34m)\u001b[0m\u001b[0;34m\u001b[0m\u001b[0;34m\u001b[0m\u001b[0m\n\u001b[0m\u001b[1;32m      9\u001b[0m \u001b[0;34m\u001b[0m\u001b[0m\n\u001b[1;32m     10\u001b[0m \u001b[0;31m# \"At the moment, the kernel values between all training vectors\u001b[0m\u001b[0;34m\u001b[0m\u001b[0;34m\u001b[0m\u001b[0;34m\u001b[0m\u001b[0m\n",
            "\u001b[0;31mNameError\u001b[0m: name 'n' is not defined"
          ]
        }
      ]
    },
    {
      "cell_type": "code",
      "metadata": {
        "id": "LTSqeHmyAY93"
      },
      "source": [
        "\n"
      ],
      "execution_count": null,
      "outputs": []
    },
    {
      "cell_type": "code",
      "metadata": {
        "id": "vzqRyZjbE_Lf"
      },
      "source": [
        ""
      ],
      "execution_count": null,
      "outputs": []
    },
    {
      "cell_type": "code",
      "metadata": {
        "id": "0PmxICXmEbHg"
      },
      "source": [
        ""
      ],
      "execution_count": null,
      "outputs": []
    }
  ]
}